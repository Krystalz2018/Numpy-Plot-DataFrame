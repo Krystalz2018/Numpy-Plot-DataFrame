{
 "cells": [
  {
   "cell_type": "markdown",
   "metadata": {
    "id": "tEAEJaMUm0HQ"
   },
   "source": [
    "# Instructions\n",
    "\n",
    "**PLEASE READ CAREFULLY**\n",
    "\n",
    "This is not a timed task, but we aimed for a task that does not take more than 6 hours.  You may add more cells for work, but please do not delete any existing  notebook cells. \n",
    "\n",
    "**Please use Python or R.** Please use this ipynb file to supply your answers. It should be completed using either a python or R kernel. If you do not have access to a computer capable of running your python or R code, you may use free online computing services such as kaggle or colab, or any other online computing service. We have tested both kaggle and collab and they are sufficiently powerful to complete all the tasks below. \n",
    " - https://www.kaggle.com/notebooks/welcome\n",
    " - https://colab.research.google.com/\n",
    " \n",
    "\n",
    "**Please show your work.** We are interested in your thought process, so please show/annotate your code. We prefer that you display images inline rather than in separate files. If you need to install any packages, please include the code required to install them. Eg: \n",
    "\n",
    "> ```! pip install new_package  # (for python)```\n",
    "\n",
    "> ```! install.packages(new.package, dependencies = TRUE) # (for R)```\n",
    "\n",
    "\n",
    "**Please send us a single compressed file.** When you are done, please follow the directions at the end to submit your work.\n",
    "\n",
    "**Please let us know if you have any questions.** If you have questions about the task please email rory.pulvino@justiceinnovationlab.org (we promise there's a human on the other end, but also expect slow response times)."
   ]
  },
  {
   "cell_type": "markdown",
   "metadata": {
    "id": "CICDn-l8bN82"
   },
   "source": [
    "# Section 1: Data Manipulation\n",
    "Suppose a jurisdiction has data on:\n",
    "\n",
    "Recent traffic stops by some a local Police Department officers (traffic stops data): \n",
    "- https://drive.google.com/uc?export=download&id=1fp7716e-l7RZusH6wo8UeUQNM7J0dyYN\n",
    "\n",
    "Crime incidents reported to the police department (crime incidents data): \n",
    "- https://drive.google.com/uc?export=download&id=12gnXMitHQM1nTqBm20Gcq84r7qgttWY-\n",
    "\n",
    "Using these data, please perform the following tasks."
   ]
  },
  {
   "cell_type": "markdown",
   "metadata": {
    "id": "MphS6m1wbN83"
   },
   "source": [
    "## Task 1.A \n",
    "Load the data we provided and view a few rows of each. As a note, if you're reading in the courts data for Section 2 using pd.read_csv in Python, you may need to use the following syntax to read from the url:\n",
    "\n",
    "courts_df = pd.read_csv(courts_data_url, names = ['stop_id', 'ticket_amount', \n",
    "                                                  'ticket_status'], skiprows = 1)\n",
    "\n",
    "*Reminder*: for all questions, please write your code in this notebook!  This is what we will review and score. "
   ]
  },
  {
   "cell_type": "code",
   "execution_count": 142,
   "metadata": {},
   "outputs": [],
   "source": [
    "import numpy as np\n",
    "import pandas as pd\n",
    "import warnings\n",
    "warnings.filterwarnings('ignore')"
   ]
  },
  {
   "cell_type": "code",
   "execution_count": 8,
   "metadata": {},
   "outputs": [
    {
     "data": {
      "text/html": [
       "<div>\n",
       "<style scoped>\n",
       "    .dataframe tbody tr th:only-of-type {\n",
       "        vertical-align: middle;\n",
       "    }\n",
       "\n",
       "    .dataframe tbody tr th {\n",
       "        vertical-align: top;\n",
       "    }\n",
       "\n",
       "    .dataframe thead th {\n",
       "        text-align: right;\n",
       "    }\n",
       "</style>\n",
       "<table border=\"1\" class=\"dataframe\">\n",
       "  <thead>\n",
       "    <tr style=\"text-align: right;\">\n",
       "      <th></th>\n",
       "      <th>stop_id</th>\n",
       "      <th>officer_id</th>\n",
       "      <th>stop_date</th>\n",
       "      <th>driver_age</th>\n",
       "      <th>driver_sex</th>\n",
       "      <th>ticket</th>\n",
       "      <th>driver_race</th>\n",
       "    </tr>\n",
       "  </thead>\n",
       "  <tbody>\n",
       "    <tr>\n",
       "      <th>0</th>\n",
       "      <td>61001</td>\n",
       "      <td>A</td>\n",
       "      <td>2017-03-19</td>\n",
       "      <td>28</td>\n",
       "      <td>f</td>\n",
       "      <td>True</td>\n",
       "      <td>black</td>\n",
       "    </tr>\n",
       "    <tr>\n",
       "      <th>1</th>\n",
       "      <td>96921</td>\n",
       "      <td>B</td>\n",
       "      <td>2017-08-02</td>\n",
       "      <td>16</td>\n",
       "      <td>m</td>\n",
       "      <td>True</td>\n",
       "      <td>black</td>\n",
       "    </tr>\n",
       "    <tr>\n",
       "      <th>2</th>\n",
       "      <td>190446</td>\n",
       "      <td>E</td>\n",
       "      <td>2017-05-18</td>\n",
       "      <td>69</td>\n",
       "      <td>m</td>\n",
       "      <td>False</td>\n",
       "      <td>black</td>\n",
       "    </tr>\n",
       "  </tbody>\n",
       "</table>\n",
       "</div>"
      ],
      "text/plain": [
       "   stop_id officer_id   stop_date  driver_age driver_sex  ticket driver_race\n",
       "0    61001          A  2017-03-19          28          f    True       black\n",
       "1    96921          B  2017-08-02          16          m    True       black\n",
       "2   190446          E  2017-05-18          69          m   False       black"
      ]
     },
     "execution_count": 8,
     "metadata": {},
     "output_type": "execute_result"
    }
   ],
   "source": [
    "stops_df = pd.read_csv('stops.csv')\n",
    "stops_df.head(3)"
   ]
  },
  {
   "cell_type": "code",
   "execution_count": 7,
   "metadata": {},
   "outputs": [
    {
     "data": {
      "text/html": [
       "<div>\n",
       "<style scoped>\n",
       "    .dataframe tbody tr th:only-of-type {\n",
       "        vertical-align: middle;\n",
       "    }\n",
       "\n",
       "    .dataframe tbody tr th {\n",
       "        vertical-align: top;\n",
       "    }\n",
       "\n",
       "    .dataframe thead th {\n",
       "        text-align: right;\n",
       "    }\n",
       "</style>\n",
       "<table border=\"1\" class=\"dataframe\">\n",
       "  <thead>\n",
       "    <tr style=\"text-align: right;\">\n",
       "      <th></th>\n",
       "      <th>X</th>\n",
       "      <th>Y</th>\n",
       "      <th>CCN</th>\n",
       "      <th>REPORT_DAT</th>\n",
       "      <th>SHIFT</th>\n",
       "      <th>METHOD</th>\n",
       "      <th>BLOCK</th>\n",
       "      <th>XBLOCK</th>\n",
       "      <th>YBLOCK</th>\n",
       "      <th>WARD</th>\n",
       "      <th>...</th>\n",
       "      <th>CENSUS_TRACT</th>\n",
       "      <th>VOTING_PRECINCT</th>\n",
       "      <th>LATITUDE</th>\n",
       "      <th>LONGITUDE</th>\n",
       "      <th>BID</th>\n",
       "      <th>START_DATE</th>\n",
       "      <th>END_DATE</th>\n",
       "      <th>OBJECTID</th>\n",
       "      <th>OCTO_RECORD_ID</th>\n",
       "      <th>OFFENSE</th>\n",
       "    </tr>\n",
       "  </thead>\n",
       "  <tbody>\n",
       "    <tr>\n",
       "      <th>0</th>\n",
       "      <td>-77.058663</td>\n",
       "      <td>38.906846</td>\n",
       "      <td>7093973</td>\n",
       "      <td>2017-06-03T12:54:27.000Z</td>\n",
       "      <td>DAY</td>\n",
       "      <td>OTHERS</td>\n",
       "      <td>2900 - 2999 BLOCK OF N STREET NW</td>\n",
       "      <td>394912</td>\n",
       "      <td>137666</td>\n",
       "      <td>2</td>\n",
       "      <td>...</td>\n",
       "      <td>100.0</td>\n",
       "      <td>Precinct 5</td>\n",
       "      <td>38.906838</td>\n",
       "      <td>-77.058661</td>\n",
       "      <td>NaN</td>\n",
       "      <td>2017-06-03T11:54:03.000Z</td>\n",
       "      <td>2017-06-03T11:55:05.000Z</td>\n",
       "      <td>341397622</td>\n",
       "      <td>07093973-01</td>\n",
       "      <td>THEFT F/AUTO</td>\n",
       "    </tr>\n",
       "    <tr>\n",
       "      <th>1</th>\n",
       "      <td>-77.018036</td>\n",
       "      <td>38.960747</td>\n",
       "      <td>9251904</td>\n",
       "      <td>2017-04-07T00:00:00.000Z</td>\n",
       "      <td>MIDNIGHT</td>\n",
       "      <td>OTHERS</td>\n",
       "      <td>5800  - 5899 BLOCK OF 4TH STREET NW</td>\n",
       "      <td>398437</td>\n",
       "      <td>143648</td>\n",
       "      <td>4</td>\n",
       "      <td>...</td>\n",
       "      <td>1902.0</td>\n",
       "      <td>Precinct 58</td>\n",
       "      <td>38.960739</td>\n",
       "      <td>-77.018034</td>\n",
       "      <td>NaN</td>\n",
       "      <td>2009-02-13T12:03:45.000Z</td>\n",
       "      <td>2009-02-13T12:03:43.000Z</td>\n",
       "      <td>341453326</td>\n",
       "      <td>09251904-01</td>\n",
       "      <td>homicide</td>\n",
       "    </tr>\n",
       "    <tr>\n",
       "      <th>2</th>\n",
       "      <td>-76.984955</td>\n",
       "      <td>38.915147</td>\n",
       "      <td>14060710</td>\n",
       "      <td>2017-03-13T00:00:00.000Z</td>\n",
       "      <td>MIDNIGHT</td>\n",
       "      <td>OTHERS</td>\n",
       "      <td>2000 - 2099 BLOCK OF FENWICK STREET NE</td>\n",
       "      <td>401305</td>\n",
       "      <td>138586</td>\n",
       "      <td>5</td>\n",
       "      <td>...</td>\n",
       "      <td>8803.0</td>\n",
       "      <td>Precinct 76</td>\n",
       "      <td>38.915139</td>\n",
       "      <td>-76.984953</td>\n",
       "      <td>NaN</td>\n",
       "      <td>2014-05-01T19:32:00.000Z</td>\n",
       "      <td>2014-05-01T19:32:00.000Z</td>\n",
       "      <td>341600002</td>\n",
       "      <td>14060710-01</td>\n",
       "      <td>HOMICIDE</td>\n",
       "    </tr>\n",
       "  </tbody>\n",
       "</table>\n",
       "<p>3 rows × 25 columns</p>\n",
       "</div>"
      ],
      "text/plain": [
       "           X          Y       CCN                REPORT_DAT     SHIFT  METHOD  \\\n",
       "0 -77.058663  38.906846   7093973  2017-06-03T12:54:27.000Z       DAY  OTHERS   \n",
       "1 -77.018036  38.960747   9251904  2017-04-07T00:00:00.000Z  MIDNIGHT  OTHERS   \n",
       "2 -76.984955  38.915147  14060710  2017-03-13T00:00:00.000Z  MIDNIGHT  OTHERS   \n",
       "\n",
       "                                    BLOCK  XBLOCK  YBLOCK  WARD  ...  \\\n",
       "0        2900 - 2999 BLOCK OF N STREET NW  394912  137666     2  ...   \n",
       "1     5800  - 5899 BLOCK OF 4TH STREET NW  398437  143648     4  ...   \n",
       "2  2000 - 2099 BLOCK OF FENWICK STREET NE  401305  138586     5  ...   \n",
       "\n",
       "  CENSUS_TRACT  VOTING_PRECINCT   LATITUDE  LONGITUDE  BID  \\\n",
       "0        100.0       Precinct 5  38.906838 -77.058661  NaN   \n",
       "1       1902.0      Precinct 58  38.960739 -77.018034  NaN   \n",
       "2       8803.0      Precinct 76  38.915139 -76.984953  NaN   \n",
       "\n",
       "                 START_DATE                  END_DATE   OBJECTID  \\\n",
       "0  2017-06-03T11:54:03.000Z  2017-06-03T11:55:05.000Z  341397622   \n",
       "1  2009-02-13T12:03:45.000Z  2009-02-13T12:03:43.000Z  341453326   \n",
       "2  2014-05-01T19:32:00.000Z  2014-05-01T19:32:00.000Z  341600002   \n",
       "\n",
       "   OCTO_RECORD_ID       OFFENSE  \n",
       "0     07093973-01  THEFT F/AUTO  \n",
       "1     09251904-01      homicide  \n",
       "2     14060710-01      HOMICIDE  \n",
       "\n",
       "[3 rows x 25 columns]"
      ]
     },
     "execution_count": 7,
     "metadata": {},
     "output_type": "execute_result"
    }
   ],
   "source": [
    "crimes_df = pd.read_csv('crimes.csv')\n",
    "crimes_df.head(3)"
   ]
  },
  {
   "cell_type": "code",
   "execution_count": 6,
   "metadata": {
    "id": "tLcW3CgDbN83"
   },
   "outputs": [
    {
     "data": {
      "text/plain": [
       "Index(['X', 'Y', 'CCN', 'REPORT_DAT', 'SHIFT', 'METHOD', 'BLOCK', 'XBLOCK',\n",
       "       'YBLOCK', 'WARD', 'ANC', 'DISTRICT', 'PSA', 'NEIGHBORHOOD_CLUSTER',\n",
       "       'BLOCK_GROUP', 'CENSUS_TRACT', 'VOTING_PRECINCT', 'LATITUDE',\n",
       "       'LONGITUDE', 'BID', 'START_DATE', 'END_DATE', 'OBJECTID',\n",
       "       'OCTO_RECORD_ID', 'OFFENSE'],\n",
       "      dtype='object')"
      ]
     },
     "execution_count": 6,
     "metadata": {},
     "output_type": "execute_result"
    }
   ],
   "source": [
    "crimes_df.columns"
   ]
  },
  {
   "cell_type": "markdown",
   "metadata": {
    "id": "ExB-VTU0bN89"
   },
   "source": [
    "## Task 1.B\n",
    "Crime incidents are reported down to the hour/minute, while stops are only reported down to the day.\n",
    "\n",
    "Please create a new column based on the `REPORT_DAT` column of the crime incidents data that rounds the exact timestamp for the crime down to the day - for instance, \"2017-06-03T12:54:27.000Z\" would become \"2017-06-03\". Call this column `report_daily`."
   ]
  },
  {
   "cell_type": "code",
   "execution_count": 20,
   "metadata": {
    "id": "THdm0xejbN89"
   },
   "outputs": [],
   "source": [
    "crimes_df['report_daily'] = pd.to_datetime(crimes_df.REPORT_DAT).dt.date"
   ]
  },
  {
   "cell_type": "code",
   "execution_count": 21,
   "metadata": {},
   "outputs": [
    {
     "data": {
      "text/html": [
       "<div>\n",
       "<style scoped>\n",
       "    .dataframe tbody tr th:only-of-type {\n",
       "        vertical-align: middle;\n",
       "    }\n",
       "\n",
       "    .dataframe tbody tr th {\n",
       "        vertical-align: top;\n",
       "    }\n",
       "\n",
       "    .dataframe thead th {\n",
       "        text-align: right;\n",
       "    }\n",
       "</style>\n",
       "<table border=\"1\" class=\"dataframe\">\n",
       "  <thead>\n",
       "    <tr style=\"text-align: right;\">\n",
       "      <th></th>\n",
       "      <th>X</th>\n",
       "      <th>Y</th>\n",
       "      <th>CCN</th>\n",
       "      <th>REPORT_DAT</th>\n",
       "      <th>SHIFT</th>\n",
       "      <th>METHOD</th>\n",
       "      <th>BLOCK</th>\n",
       "      <th>XBLOCK</th>\n",
       "      <th>YBLOCK</th>\n",
       "      <th>WARD</th>\n",
       "      <th>...</th>\n",
       "      <th>VOTING_PRECINCT</th>\n",
       "      <th>LATITUDE</th>\n",
       "      <th>LONGITUDE</th>\n",
       "      <th>BID</th>\n",
       "      <th>START_DATE</th>\n",
       "      <th>END_DATE</th>\n",
       "      <th>OBJECTID</th>\n",
       "      <th>OCTO_RECORD_ID</th>\n",
       "      <th>OFFENSE</th>\n",
       "      <th>report_daily</th>\n",
       "    </tr>\n",
       "  </thead>\n",
       "  <tbody>\n",
       "    <tr>\n",
       "      <th>0</th>\n",
       "      <td>-77.058663</td>\n",
       "      <td>38.906846</td>\n",
       "      <td>7093973</td>\n",
       "      <td>2017-06-03T12:54:27.000Z</td>\n",
       "      <td>DAY</td>\n",
       "      <td>OTHERS</td>\n",
       "      <td>2900 - 2999 BLOCK OF N STREET NW</td>\n",
       "      <td>394912</td>\n",
       "      <td>137666</td>\n",
       "      <td>2</td>\n",
       "      <td>...</td>\n",
       "      <td>Precinct 5</td>\n",
       "      <td>38.906838</td>\n",
       "      <td>-77.058661</td>\n",
       "      <td>NaN</td>\n",
       "      <td>2017-06-03T11:54:03.000Z</td>\n",
       "      <td>2017-06-03T11:55:05.000Z</td>\n",
       "      <td>341397622</td>\n",
       "      <td>07093973-01</td>\n",
       "      <td>THEFT F/AUTO</td>\n",
       "      <td>2017-06-03</td>\n",
       "    </tr>\n",
       "    <tr>\n",
       "      <th>1</th>\n",
       "      <td>-77.018036</td>\n",
       "      <td>38.960747</td>\n",
       "      <td>9251904</td>\n",
       "      <td>2017-04-07T00:00:00.000Z</td>\n",
       "      <td>MIDNIGHT</td>\n",
       "      <td>OTHERS</td>\n",
       "      <td>5800  - 5899 BLOCK OF 4TH STREET NW</td>\n",
       "      <td>398437</td>\n",
       "      <td>143648</td>\n",
       "      <td>4</td>\n",
       "      <td>...</td>\n",
       "      <td>Precinct 58</td>\n",
       "      <td>38.960739</td>\n",
       "      <td>-77.018034</td>\n",
       "      <td>NaN</td>\n",
       "      <td>2009-02-13T12:03:45.000Z</td>\n",
       "      <td>2009-02-13T12:03:43.000Z</td>\n",
       "      <td>341453326</td>\n",
       "      <td>09251904-01</td>\n",
       "      <td>homicide</td>\n",
       "      <td>2017-04-07</td>\n",
       "    </tr>\n",
       "    <tr>\n",
       "      <th>2</th>\n",
       "      <td>-76.984955</td>\n",
       "      <td>38.915147</td>\n",
       "      <td>14060710</td>\n",
       "      <td>2017-03-13T00:00:00.000Z</td>\n",
       "      <td>MIDNIGHT</td>\n",
       "      <td>OTHERS</td>\n",
       "      <td>2000 - 2099 BLOCK OF FENWICK STREET NE</td>\n",
       "      <td>401305</td>\n",
       "      <td>138586</td>\n",
       "      <td>5</td>\n",
       "      <td>...</td>\n",
       "      <td>Precinct 76</td>\n",
       "      <td>38.915139</td>\n",
       "      <td>-76.984953</td>\n",
       "      <td>NaN</td>\n",
       "      <td>2014-05-01T19:32:00.000Z</td>\n",
       "      <td>2014-05-01T19:32:00.000Z</td>\n",
       "      <td>341600002</td>\n",
       "      <td>14060710-01</td>\n",
       "      <td>HOMICIDE</td>\n",
       "      <td>2017-03-13</td>\n",
       "    </tr>\n",
       "  </tbody>\n",
       "</table>\n",
       "<p>3 rows × 26 columns</p>\n",
       "</div>"
      ],
      "text/plain": [
       "           X          Y       CCN                REPORT_DAT     SHIFT  METHOD  \\\n",
       "0 -77.058663  38.906846   7093973  2017-06-03T12:54:27.000Z       DAY  OTHERS   \n",
       "1 -77.018036  38.960747   9251904  2017-04-07T00:00:00.000Z  MIDNIGHT  OTHERS   \n",
       "2 -76.984955  38.915147  14060710  2017-03-13T00:00:00.000Z  MIDNIGHT  OTHERS   \n",
       "\n",
       "                                    BLOCK  XBLOCK  YBLOCK  WARD  ...  \\\n",
       "0        2900 - 2999 BLOCK OF N STREET NW  394912  137666     2  ...   \n",
       "1     5800  - 5899 BLOCK OF 4TH STREET NW  398437  143648     4  ...   \n",
       "2  2000 - 2099 BLOCK OF FENWICK STREET NE  401305  138586     5  ...   \n",
       "\n",
       "  VOTING_PRECINCT   LATITUDE  LONGITUDE  BID                START_DATE  \\\n",
       "0      Precinct 5  38.906838 -77.058661  NaN  2017-06-03T11:54:03.000Z   \n",
       "1     Precinct 58  38.960739 -77.018034  NaN  2009-02-13T12:03:45.000Z   \n",
       "2     Precinct 76  38.915139 -76.984953  NaN  2014-05-01T19:32:00.000Z   \n",
       "\n",
       "                   END_DATE   OBJECTID  OCTO_RECORD_ID       OFFENSE  \\\n",
       "0  2017-06-03T11:55:05.000Z  341397622     07093973-01  THEFT F/AUTO   \n",
       "1  2009-02-13T12:03:43.000Z  341453326     09251904-01      homicide   \n",
       "2  2014-05-01T19:32:00.000Z  341600002     14060710-01      HOMICIDE   \n",
       "\n",
       "  report_daily  \n",
       "0   2017-06-03  \n",
       "1   2017-04-07  \n",
       "2   2017-03-13  \n",
       "\n",
       "[3 rows x 26 columns]"
      ]
     },
     "execution_count": 21,
     "metadata": {},
     "output_type": "execute_result"
    }
   ],
   "source": [
    "crimes_df.head(3)"
   ]
  },
  {
   "cell_type": "markdown",
   "metadata": {
    "id": "VD66Z_qybN9A"
   },
   "source": [
    "## Task 1.C \n",
    "Create a new data set `crimes_by_day` that gives the total count of crime incidents per day. For the purposes of aggregating, you can consider each unique `OBJECTID` as reflecting a different crime incident.\n",
    "\n",
    "Similarly, create a new data set `stops_by_day` that gives the total count of traffic stops per day. For the purposes of aggregating, you can consider each unique `stop_id` as reflecting a different stop."
   ]
  },
  {
   "cell_type": "code",
   "execution_count": 117,
   "metadata": {},
   "outputs": [
    {
     "data": {
      "text/plain": [
       "report_daily\n",
       "2017-03-01     80\n",
       "2017-03-02     59\n",
       "2017-03-03     84\n",
       "2017-03-04     77\n",
       "2017-03-05     61\n",
       "             ... \n",
       "2017-08-25     94\n",
       "2017-08-26    114\n",
       "2017-08-27    106\n",
       "2017-08-28     74\n",
       "2017-08-29     76\n",
       "Name: OBJECTID, Length: 182, dtype: int64"
      ]
     },
     "execution_count": 117,
     "metadata": {},
     "output_type": "execute_result"
    }
   ],
   "source": [
    "crimes_by_day = crimes_df.groupby(['report_daily']).count().iloc[:,-3]\n",
    "crimes_by_day"
   ]
  },
  {
   "cell_type": "code",
   "execution_count": 118,
   "metadata": {
    "id": "u00CSUfXbN9B"
   },
   "outputs": [
    {
     "data": {
      "text/plain": [
       "stop_date\n",
       "2017-03-01    509\n",
       "2017-03-02    421\n",
       "2017-03-03    413\n",
       "2017-03-04    475\n",
       "2017-03-05    490\n",
       "             ... \n",
       "2017-08-25    475\n",
       "2017-08-26    471\n",
       "2017-08-27    444\n",
       "2017-08-28    476\n",
       "2017-08-29    464\n",
       "Name: stop_id, Length: 174, dtype: int64"
      ]
     },
     "execution_count": 118,
     "metadata": {},
     "output_type": "execute_result"
    }
   ],
   "source": [
    "stops_by_day = stops_df.groupby(['stop_date']).count().iloc[:,0]\n",
    "stops_by_day"
   ]
  },
  {
   "cell_type": "markdown",
   "metadata": {
    "id": "0yfkoTVHbN9D"
   },
   "source": [
    "## Task 1.D\n",
    "For either the traffic stops by day or crime incidents by day, check if there are days missing in the period measured. If so, fill them with the mean across all other days for that data.\n"
   ]
  },
  {
   "cell_type": "code",
   "execution_count": 119,
   "metadata": {
    "id": "HtqnzvcqbN9H"
   },
   "outputs": [],
   "source": [
    "stops_by_day = pd.DataFrame(stops_by_day).reset_index()\n",
    "crimes_by_day = pd.DataFrame(crimes_by_day).reset_index()"
   ]
  },
  {
   "cell_type": "code",
   "execution_count": 120,
   "metadata": {},
   "outputs": [
    {
     "data": {
      "text/html": [
       "<div>\n",
       "<style scoped>\n",
       "    .dataframe tbody tr th:only-of-type {\n",
       "        vertical-align: middle;\n",
       "    }\n",
       "\n",
       "    .dataframe tbody tr th {\n",
       "        vertical-align: top;\n",
       "    }\n",
       "\n",
       "    .dataframe thead th {\n",
       "        text-align: right;\n",
       "    }\n",
       "</style>\n",
       "<table border=\"1\" class=\"dataframe\">\n",
       "  <thead>\n",
       "    <tr style=\"text-align: right;\">\n",
       "      <th></th>\n",
       "      <th>report_daily</th>\n",
       "      <th>OBJECTID</th>\n",
       "    </tr>\n",
       "  </thead>\n",
       "  <tbody>\n",
       "    <tr>\n",
       "      <th>0</th>\n",
       "      <td>2017-03-01</td>\n",
       "      <td>80</td>\n",
       "    </tr>\n",
       "    <tr>\n",
       "      <th>1</th>\n",
       "      <td>2017-03-02</td>\n",
       "      <td>59</td>\n",
       "    </tr>\n",
       "    <tr>\n",
       "      <th>2</th>\n",
       "      <td>2017-03-03</td>\n",
       "      <td>84</td>\n",
       "    </tr>\n",
       "    <tr>\n",
       "      <th>3</th>\n",
       "      <td>2017-03-04</td>\n",
       "      <td>77</td>\n",
       "    </tr>\n",
       "    <tr>\n",
       "      <th>4</th>\n",
       "      <td>2017-03-05</td>\n",
       "      <td>61</td>\n",
       "    </tr>\n",
       "    <tr>\n",
       "      <th>...</th>\n",
       "      <td>...</td>\n",
       "      <td>...</td>\n",
       "    </tr>\n",
       "    <tr>\n",
       "      <th>177</th>\n",
       "      <td>2017-08-25</td>\n",
       "      <td>94</td>\n",
       "    </tr>\n",
       "    <tr>\n",
       "      <th>178</th>\n",
       "      <td>2017-08-26</td>\n",
       "      <td>114</td>\n",
       "    </tr>\n",
       "    <tr>\n",
       "      <th>179</th>\n",
       "      <td>2017-08-27</td>\n",
       "      <td>106</td>\n",
       "    </tr>\n",
       "    <tr>\n",
       "      <th>180</th>\n",
       "      <td>2017-08-28</td>\n",
       "      <td>74</td>\n",
       "    </tr>\n",
       "    <tr>\n",
       "      <th>181</th>\n",
       "      <td>2017-08-29</td>\n",
       "      <td>76</td>\n",
       "    </tr>\n",
       "  </tbody>\n",
       "</table>\n",
       "<p>182 rows × 2 columns</p>\n",
       "</div>"
      ],
      "text/plain": [
       "    report_daily  OBJECTID\n",
       "0     2017-03-01        80\n",
       "1     2017-03-02        59\n",
       "2     2017-03-03        84\n",
       "3     2017-03-04        77\n",
       "4     2017-03-05        61\n",
       "..           ...       ...\n",
       "177   2017-08-25        94\n",
       "178   2017-08-26       114\n",
       "179   2017-08-27       106\n",
       "180   2017-08-28        74\n",
       "181   2017-08-29        76\n",
       "\n",
       "[182 rows x 2 columns]"
      ]
     },
     "execution_count": 120,
     "metadata": {},
     "output_type": "execute_result"
    }
   ],
   "source": [
    "crimes_by_day.fillna(np.mean(crimes_by_day.OBJECTID))"
   ]
  },
  {
   "cell_type": "code",
   "execution_count": 121,
   "metadata": {},
   "outputs": [
    {
     "data": {
      "text/html": [
       "<div>\n",
       "<style scoped>\n",
       "    .dataframe tbody tr th:only-of-type {\n",
       "        vertical-align: middle;\n",
       "    }\n",
       "\n",
       "    .dataframe tbody tr th {\n",
       "        vertical-align: top;\n",
       "    }\n",
       "\n",
       "    .dataframe thead th {\n",
       "        text-align: right;\n",
       "    }\n",
       "</style>\n",
       "<table border=\"1\" class=\"dataframe\">\n",
       "  <thead>\n",
       "    <tr style=\"text-align: right;\">\n",
       "      <th></th>\n",
       "      <th>stop_date</th>\n",
       "      <th>stop_id</th>\n",
       "    </tr>\n",
       "  </thead>\n",
       "  <tbody>\n",
       "    <tr>\n",
       "      <th>0</th>\n",
       "      <td>2017-03-01</td>\n",
       "      <td>509</td>\n",
       "    </tr>\n",
       "    <tr>\n",
       "      <th>1</th>\n",
       "      <td>2017-03-02</td>\n",
       "      <td>421</td>\n",
       "    </tr>\n",
       "    <tr>\n",
       "      <th>2</th>\n",
       "      <td>2017-03-03</td>\n",
       "      <td>413</td>\n",
       "    </tr>\n",
       "    <tr>\n",
       "      <th>3</th>\n",
       "      <td>2017-03-04</td>\n",
       "      <td>475</td>\n",
       "    </tr>\n",
       "    <tr>\n",
       "      <th>4</th>\n",
       "      <td>2017-03-05</td>\n",
       "      <td>490</td>\n",
       "    </tr>\n",
       "    <tr>\n",
       "      <th>...</th>\n",
       "      <td>...</td>\n",
       "      <td>...</td>\n",
       "    </tr>\n",
       "    <tr>\n",
       "      <th>169</th>\n",
       "      <td>2017-08-25</td>\n",
       "      <td>475</td>\n",
       "    </tr>\n",
       "    <tr>\n",
       "      <th>170</th>\n",
       "      <td>2017-08-26</td>\n",
       "      <td>471</td>\n",
       "    </tr>\n",
       "    <tr>\n",
       "      <th>171</th>\n",
       "      <td>2017-08-27</td>\n",
       "      <td>444</td>\n",
       "    </tr>\n",
       "    <tr>\n",
       "      <th>172</th>\n",
       "      <td>2017-08-28</td>\n",
       "      <td>476</td>\n",
       "    </tr>\n",
       "    <tr>\n",
       "      <th>173</th>\n",
       "      <td>2017-08-29</td>\n",
       "      <td>464</td>\n",
       "    </tr>\n",
       "  </tbody>\n",
       "</table>\n",
       "<p>174 rows × 2 columns</p>\n",
       "</div>"
      ],
      "text/plain": [
       "      stop_date  stop_id\n",
       "0    2017-03-01      509\n",
       "1    2017-03-02      421\n",
       "2    2017-03-03      413\n",
       "3    2017-03-04      475\n",
       "4    2017-03-05      490\n",
       "..          ...      ...\n",
       "169  2017-08-25      475\n",
       "170  2017-08-26      471\n",
       "171  2017-08-27      444\n",
       "172  2017-08-28      476\n",
       "173  2017-08-29      464\n",
       "\n",
       "[174 rows x 2 columns]"
      ]
     },
     "execution_count": 121,
     "metadata": {},
     "output_type": "execute_result"
    }
   ],
   "source": [
    "stops_by_day.fillna(np.mean(stops_by_day.stop_id))"
   ]
  },
  {
   "cell_type": "markdown",
   "metadata": {
    "id": "31YixbLtbN9H"
   },
   "source": [
    "## Task 1.E\n",
    "Merge the traffic stops by day data with the crimes by day data. Which specific date has the most traffic stops? Which specific date has the most crime incidents?"
   ]
  },
  {
   "cell_type": "code",
   "execution_count": 122,
   "metadata": {},
   "outputs": [
    {
     "data": {
      "text/html": [
       "<div>\n",
       "<style scoped>\n",
       "    .dataframe tbody tr th:only-of-type {\n",
       "        vertical-align: middle;\n",
       "    }\n",
       "\n",
       "    .dataframe tbody tr th {\n",
       "        vertical-align: top;\n",
       "    }\n",
       "\n",
       "    .dataframe thead th {\n",
       "        text-align: right;\n",
       "    }\n",
       "</style>\n",
       "<table border=\"1\" class=\"dataframe\">\n",
       "  <thead>\n",
       "    <tr style=\"text-align: right;\">\n",
       "      <th></th>\n",
       "      <th>stop_date</th>\n",
       "      <th>stop_id</th>\n",
       "      <th>report_daily</th>\n",
       "      <th>OBJECTID</th>\n",
       "    </tr>\n",
       "  </thead>\n",
       "  <tbody>\n",
       "    <tr>\n",
       "      <th>0</th>\n",
       "      <td>2017-03-01</td>\n",
       "      <td>509</td>\n",
       "      <td>2017-03-01</td>\n",
       "      <td>80</td>\n",
       "    </tr>\n",
       "    <tr>\n",
       "      <th>1</th>\n",
       "      <td>2017-03-02</td>\n",
       "      <td>421</td>\n",
       "      <td>2017-03-02</td>\n",
       "      <td>59</td>\n",
       "    </tr>\n",
       "    <tr>\n",
       "      <th>2</th>\n",
       "      <td>2017-03-03</td>\n",
       "      <td>413</td>\n",
       "      <td>2017-03-03</td>\n",
       "      <td>84</td>\n",
       "    </tr>\n",
       "    <tr>\n",
       "      <th>3</th>\n",
       "      <td>2017-03-04</td>\n",
       "      <td>475</td>\n",
       "      <td>2017-03-04</td>\n",
       "      <td>77</td>\n",
       "    </tr>\n",
       "    <tr>\n",
       "      <th>4</th>\n",
       "      <td>2017-03-05</td>\n",
       "      <td>490</td>\n",
       "      <td>2017-03-05</td>\n",
       "      <td>61</td>\n",
       "    </tr>\n",
       "    <tr>\n",
       "      <th>...</th>\n",
       "      <td>...</td>\n",
       "      <td>...</td>\n",
       "      <td>...</td>\n",
       "      <td>...</td>\n",
       "    </tr>\n",
       "    <tr>\n",
       "      <th>169</th>\n",
       "      <td>2017-08-25</td>\n",
       "      <td>475</td>\n",
       "      <td>2017-08-17</td>\n",
       "      <td>94</td>\n",
       "    </tr>\n",
       "    <tr>\n",
       "      <th>170</th>\n",
       "      <td>2017-08-26</td>\n",
       "      <td>471</td>\n",
       "      <td>2017-08-18</td>\n",
       "      <td>88</td>\n",
       "    </tr>\n",
       "    <tr>\n",
       "      <th>171</th>\n",
       "      <td>2017-08-27</td>\n",
       "      <td>444</td>\n",
       "      <td>2017-08-19</td>\n",
       "      <td>101</td>\n",
       "    </tr>\n",
       "    <tr>\n",
       "      <th>172</th>\n",
       "      <td>2017-08-28</td>\n",
       "      <td>476</td>\n",
       "      <td>2017-08-20</td>\n",
       "      <td>85</td>\n",
       "    </tr>\n",
       "    <tr>\n",
       "      <th>173</th>\n",
       "      <td>2017-08-29</td>\n",
       "      <td>464</td>\n",
       "      <td>2017-08-21</td>\n",
       "      <td>87</td>\n",
       "    </tr>\n",
       "  </tbody>\n",
       "</table>\n",
       "<p>174 rows × 4 columns</p>\n",
       "</div>"
      ],
      "text/plain": [
       "      stop_date  stop_id report_daily  OBJECTID\n",
       "0    2017-03-01      509   2017-03-01        80\n",
       "1    2017-03-02      421   2017-03-02        59\n",
       "2    2017-03-03      413   2017-03-03        84\n",
       "3    2017-03-04      475   2017-03-04        77\n",
       "4    2017-03-05      490   2017-03-05        61\n",
       "..          ...      ...          ...       ...\n",
       "169  2017-08-25      475   2017-08-17        94\n",
       "170  2017-08-26      471   2017-08-18        88\n",
       "171  2017-08-27      444   2017-08-19       101\n",
       "172  2017-08-28      476   2017-08-20        85\n",
       "173  2017-08-29      464   2017-08-21        87\n",
       "\n",
       "[174 rows x 4 columns]"
      ]
     },
     "execution_count": 122,
     "metadata": {},
     "output_type": "execute_result"
    }
   ],
   "source": [
    "pd.merge(stops_by_day,crimes_by_day, how='left', left_index=True, right_index=True)"
   ]
  },
  {
   "cell_type": "code",
   "execution_count": 105,
   "metadata": {},
   "outputs": [
    {
     "data": {
      "text/html": [
       "<div>\n",
       "<style scoped>\n",
       "    .dataframe tbody tr th:only-of-type {\n",
       "        vertical-align: middle;\n",
       "    }\n",
       "\n",
       "    .dataframe tbody tr th {\n",
       "        vertical-align: top;\n",
       "    }\n",
       "\n",
       "    .dataframe thead th {\n",
       "        text-align: right;\n",
       "    }\n",
       "</style>\n",
       "<table border=\"1\" class=\"dataframe\">\n",
       "  <thead>\n",
       "    <tr style=\"text-align: right;\">\n",
       "      <th></th>\n",
       "      <th>date</th>\n",
       "      <th>stop_id</th>\n",
       "    </tr>\n",
       "  </thead>\n",
       "  <tbody>\n",
       "    <tr>\n",
       "      <th>58</th>\n",
       "      <td>2017-05-01</td>\n",
       "      <td>535</td>\n",
       "    </tr>\n",
       "    <tr>\n",
       "      <th>132</th>\n",
       "      <td>2017-07-17</td>\n",
       "      <td>530</td>\n",
       "    </tr>\n",
       "    <tr>\n",
       "      <th>50</th>\n",
       "      <td>2017-04-22</td>\n",
       "      <td>520</td>\n",
       "    </tr>\n",
       "    <tr>\n",
       "      <th>145</th>\n",
       "      <td>2017-08-01</td>\n",
       "      <td>511</td>\n",
       "    </tr>\n",
       "    <tr>\n",
       "      <th>0</th>\n",
       "      <td>2017-03-01</td>\n",
       "      <td>509</td>\n",
       "    </tr>\n",
       "    <tr>\n",
       "      <th>...</th>\n",
       "      <td>...</td>\n",
       "      <td>...</td>\n",
       "    </tr>\n",
       "    <tr>\n",
       "      <th>1</th>\n",
       "      <td>2017-03-02</td>\n",
       "      <td>421</td>\n",
       "    </tr>\n",
       "    <tr>\n",
       "      <th>89</th>\n",
       "      <td>2017-06-03</td>\n",
       "      <td>416</td>\n",
       "    </tr>\n",
       "    <tr>\n",
       "      <th>2</th>\n",
       "      <td>2017-03-03</td>\n",
       "      <td>413</td>\n",
       "    </tr>\n",
       "    <tr>\n",
       "      <th>65</th>\n",
       "      <td>2017-05-08</td>\n",
       "      <td>410</td>\n",
       "    </tr>\n",
       "    <tr>\n",
       "      <th>123</th>\n",
       "      <td>2017-07-08</td>\n",
       "      <td>410</td>\n",
       "    </tr>\n",
       "  </tbody>\n",
       "</table>\n",
       "<p>174 rows × 2 columns</p>\n",
       "</div>"
      ],
      "text/plain": [
       "           date  stop_id\n",
       "58   2017-05-01      535\n",
       "132  2017-07-17      530\n",
       "50   2017-04-22      520\n",
       "145  2017-08-01      511\n",
       "0    2017-03-01      509\n",
       "..          ...      ...\n",
       "1    2017-03-02      421\n",
       "89   2017-06-03      416\n",
       "2    2017-03-03      413\n",
       "65   2017-05-08      410\n",
       "123  2017-07-08      410\n",
       "\n",
       "[174 rows x 2 columns]"
      ]
     },
     "execution_count": 105,
     "metadata": {},
     "output_type": "execute_result"
    }
   ],
   "source": [
    "stops_by_day.sort_values(by='stop_id', ascending=False)"
   ]
  },
  {
   "cell_type": "code",
   "execution_count": 106,
   "metadata": {},
   "outputs": [
    {
     "data": {
      "text/html": [
       "<div>\n",
       "<style scoped>\n",
       "    .dataframe tbody tr th:only-of-type {\n",
       "        vertical-align: middle;\n",
       "    }\n",
       "\n",
       "    .dataframe tbody tr th {\n",
       "        vertical-align: top;\n",
       "    }\n",
       "\n",
       "    .dataframe thead th {\n",
       "        text-align: right;\n",
       "    }\n",
       "</style>\n",
       "<table border=\"1\" class=\"dataframe\">\n",
       "  <thead>\n",
       "    <tr style=\"text-align: right;\">\n",
       "      <th></th>\n",
       "      <th>date</th>\n",
       "      <th>OBJECTID</th>\n",
       "    </tr>\n",
       "  </thead>\n",
       "  <tbody>\n",
       "    <tr>\n",
       "      <th>89</th>\n",
       "      <td>2017-05-29</td>\n",
       "      <td>122</td>\n",
       "    </tr>\n",
       "    <tr>\n",
       "      <th>68</th>\n",
       "      <td>2017-05-08</td>\n",
       "      <td>122</td>\n",
       "    </tr>\n",
       "    <tr>\n",
       "      <th>114</th>\n",
       "      <td>2017-06-23</td>\n",
       "      <td>118</td>\n",
       "    </tr>\n",
       "    <tr>\n",
       "      <th>152</th>\n",
       "      <td>2017-07-31</td>\n",
       "      <td>117</td>\n",
       "    </tr>\n",
       "    <tr>\n",
       "      <th>88</th>\n",
       "      <td>2017-05-28</td>\n",
       "      <td>115</td>\n",
       "    </tr>\n",
       "    <tr>\n",
       "      <th>...</th>\n",
       "      <td>...</td>\n",
       "      <td>...</td>\n",
       "    </tr>\n",
       "    <tr>\n",
       "      <th>4</th>\n",
       "      <td>2017-03-05</td>\n",
       "      <td>61</td>\n",
       "    </tr>\n",
       "    <tr>\n",
       "      <th>10</th>\n",
       "      <td>2017-03-11</td>\n",
       "      <td>60</td>\n",
       "    </tr>\n",
       "    <tr>\n",
       "      <th>1</th>\n",
       "      <td>2017-03-02</td>\n",
       "      <td>59</td>\n",
       "    </tr>\n",
       "    <tr>\n",
       "      <th>18</th>\n",
       "      <td>2017-03-19</td>\n",
       "      <td>56</td>\n",
       "    </tr>\n",
       "    <tr>\n",
       "      <th>13</th>\n",
       "      <td>2017-03-14</td>\n",
       "      <td>46</td>\n",
       "    </tr>\n",
       "  </tbody>\n",
       "</table>\n",
       "<p>182 rows × 2 columns</p>\n",
       "</div>"
      ],
      "text/plain": [
       "           date  OBJECTID\n",
       "89   2017-05-29       122\n",
       "68   2017-05-08       122\n",
       "114  2017-06-23       118\n",
       "152  2017-07-31       117\n",
       "88   2017-05-28       115\n",
       "..          ...       ...\n",
       "4    2017-03-05        61\n",
       "10   2017-03-11        60\n",
       "1    2017-03-02        59\n",
       "18   2017-03-19        56\n",
       "13   2017-03-14        46\n",
       "\n",
       "[182 rows x 2 columns]"
      ]
     },
     "execution_count": 106,
     "metadata": {},
     "output_type": "execute_result"
    }
   ],
   "source": [
    "crimes_by_day.sort_values(by='OBJECTID', ascending=False)"
   ]
  },
  {
   "cell_type": "markdown",
   "metadata": {
    "id": "j-icMqSqiwwN"
   },
   "source": [
    "## Task 1.F \n",
    "Write a function that: \n",
    "1. tests for missing dates from a column in a dataframe,\n",
    "2. appends any missing dates to the dataframe as a new column,\n",
    "3. uses an argument to impute missing values of either the mean or median for some other column"
   ]
  },
  {
   "cell_type": "code",
   "execution_count": null,
   "metadata": {
    "id": "Od4IXMuSi9m8"
   },
   "outputs": [],
   "source": [
    "new_df = []\n",
    "for i in range(len(df.columns)):\n",
    "    if df.columns[i]==null:\n",
    "        new_df.append(df.columns[i])\n",
    "        df.columns[i] = np.mean(df.columns)"
   ]
  },
  {
   "cell_type": "markdown",
   "metadata": {
    "id": "ejSABI9SbN9K"
   },
   "source": [
    "## Task 1.G\n",
    "Create a plot where the x axis is the date and the y axis is the ratio of traffic stops to crime incidents. Make sure the axis labels are informative.\n",
    "\n",
    "*Note*: make sure your code prints out the plot. You do not need to attach the plot here.\n",
    "\n",
    "What seasonal patterns do you notice? Explain in 1-2 sentences\n"
   ]
  },
  {
   "cell_type": "code",
   "execution_count": 109,
   "metadata": {
    "id": "3AgpVOk0bN9K"
   },
   "outputs": [],
   "source": [
    "import matplotlib.pyplot as plt\n",
    "import seaborn as sns"
   ]
  },
  {
   "cell_type": "code",
   "execution_count": 123,
   "metadata": {},
   "outputs": [],
   "source": [
    "df_new = pd.merge(stops_by_day,crimes_by_day, how='left', left_index=True, right_index=True)\n",
    "df_new['ratio'] = df_new.stop_id / df_new.OBJECTID"
   ]
  },
  {
   "cell_type": "code",
   "execution_count": 144,
   "metadata": {},
   "outputs": [
    {
     "data": {
      "text/plain": [
       "<AxesSubplot:xlabel='stop_date', ylabel='ratio'>"
      ]
     },
     "execution_count": 144,
     "metadata": {},
     "output_type": "execute_result"
    },
    {
     "data": {
      "image/png": "[encoded data removed]",
      "text/plain": [
       "<Figure size 720x432 with 1 Axes>"
      ]
     },
     "metadata": {
      "needs_background": "light"
     },
     "output_type": "display_data"
    }
   ],
   "source": [
    "plt.figure(figsize = (10,6))\n",
    "sns.barplot(df_new['stop_date'], df_new['ratio'])"
   ]
  },
  {
   "cell_type": "markdown",
   "metadata": {},
   "source": [
    "## Task 1.H \n",
    "Create a new data set `offenses_by_month` that gives the total count of crime incidents by offense type per month. For the purposes of aggregating, you can consider each unique `OBJECTID` as reflecting a different crime incident. Consider that this table should be interpretable to a non-technical audience and may require manipulation of the underlying data."
   ]
  },
  {
   "cell_type": "code",
   "execution_count": 151,
   "metadata": {},
   "outputs": [
    {
     "data": {
      "text/html": [
       "<div>\n",
       "<style scoped>\n",
       "    .dataframe tbody tr th:only-of-type {\n",
       "        vertical-align: middle;\n",
       "    }\n",
       "\n",
       "    .dataframe tbody tr th {\n",
       "        vertical-align: top;\n",
       "    }\n",
       "\n",
       "    .dataframe thead th {\n",
       "        text-align: right;\n",
       "    }\n",
       "</style>\n",
       "<table border=\"1\" class=\"dataframe\">\n",
       "  <thead>\n",
       "    <tr style=\"text-align: right;\">\n",
       "      <th></th>\n",
       "      <th>X</th>\n",
       "      <th>Y</th>\n",
       "      <th>CCN</th>\n",
       "      <th>REPORT_DAT</th>\n",
       "      <th>SHIFT</th>\n",
       "      <th>METHOD</th>\n",
       "      <th>BLOCK</th>\n",
       "      <th>XBLOCK</th>\n",
       "      <th>YBLOCK</th>\n",
       "      <th>WARD</th>\n",
       "      <th>...</th>\n",
       "      <th>LATITUDE</th>\n",
       "      <th>LONGITUDE</th>\n",
       "      <th>BID</th>\n",
       "      <th>START_DATE</th>\n",
       "      <th>END_DATE</th>\n",
       "      <th>OBJECTID</th>\n",
       "      <th>OCTO_RECORD_ID</th>\n",
       "      <th>OFFENSE</th>\n",
       "      <th>report_daily</th>\n",
       "      <th>month</th>\n",
       "    </tr>\n",
       "  </thead>\n",
       "  <tbody>\n",
       "    <tr>\n",
       "      <th>0</th>\n",
       "      <td>-77.058663</td>\n",
       "      <td>38.906846</td>\n",
       "      <td>7093973</td>\n",
       "      <td>2017-06-03T12:54:27.000Z</td>\n",
       "      <td>DAY</td>\n",
       "      <td>OTHERS</td>\n",
       "      <td>2900 - 2999 BLOCK OF N STREET NW</td>\n",
       "      <td>394912</td>\n",
       "      <td>137666</td>\n",
       "      <td>2</td>\n",
       "      <td>...</td>\n",
       "      <td>38.906838</td>\n",
       "      <td>-77.058661</td>\n",
       "      <td>NaN</td>\n",
       "      <td>2017-06-03T11:54:03.000Z</td>\n",
       "      <td>2017-06-03T11:55:05.000Z</td>\n",
       "      <td>341397622</td>\n",
       "      <td>07093973-01</td>\n",
       "      <td>THEFT F/AUTO</td>\n",
       "      <td>2017-06-03</td>\n",
       "      <td>6</td>\n",
       "    </tr>\n",
       "    <tr>\n",
       "      <th>1</th>\n",
       "      <td>-77.018036</td>\n",
       "      <td>38.960747</td>\n",
       "      <td>9251904</td>\n",
       "      <td>2017-04-07T00:00:00.000Z</td>\n",
       "      <td>MIDNIGHT</td>\n",
       "      <td>OTHERS</td>\n",
       "      <td>5800  - 5899 BLOCK OF 4TH STREET NW</td>\n",
       "      <td>398437</td>\n",
       "      <td>143648</td>\n",
       "      <td>4</td>\n",
       "      <td>...</td>\n",
       "      <td>38.960739</td>\n",
       "      <td>-77.018034</td>\n",
       "      <td>NaN</td>\n",
       "      <td>2009-02-13T12:03:45.000Z</td>\n",
       "      <td>2009-02-13T12:03:43.000Z</td>\n",
       "      <td>341453326</td>\n",
       "      <td>09251904-01</td>\n",
       "      <td>homicide</td>\n",
       "      <td>2017-04-07</td>\n",
       "      <td>4</td>\n",
       "    </tr>\n",
       "    <tr>\n",
       "      <th>2</th>\n",
       "      <td>-76.984955</td>\n",
       "      <td>38.915147</td>\n",
       "      <td>14060710</td>\n",
       "      <td>2017-03-13T00:00:00.000Z</td>\n",
       "      <td>MIDNIGHT</td>\n",
       "      <td>OTHERS</td>\n",
       "      <td>2000 - 2099 BLOCK OF FENWICK STREET NE</td>\n",
       "      <td>401305</td>\n",
       "      <td>138586</td>\n",
       "      <td>5</td>\n",
       "      <td>...</td>\n",
       "      <td>38.915139</td>\n",
       "      <td>-76.984953</td>\n",
       "      <td>NaN</td>\n",
       "      <td>2014-05-01T19:32:00.000Z</td>\n",
       "      <td>2014-05-01T19:32:00.000Z</td>\n",
       "      <td>341600002</td>\n",
       "      <td>14060710-01</td>\n",
       "      <td>HOMICIDE</td>\n",
       "      <td>2017-03-13</td>\n",
       "      <td>3</td>\n",
       "    </tr>\n",
       "    <tr>\n",
       "      <th>3</th>\n",
       "      <td>-77.009722</td>\n",
       "      <td>38.824388</td>\n",
       "      <td>16217337</td>\n",
       "      <td>2017-04-03T00:00:00.000Z</td>\n",
       "      <td>MIDNIGHT</td>\n",
       "      <td>OTHERS</td>\n",
       "      <td>2 - 153 BLOCK OF GALVESTON PLACE SW</td>\n",
       "      <td>399156</td>\n",
       "      <td>128511</td>\n",
       "      <td>8</td>\n",
       "      <td>...</td>\n",
       "      <td>38.824380</td>\n",
       "      <td>-77.009719</td>\n",
       "      <td>NaN</td>\n",
       "      <td>2016-12-25T11:59:35.000Z</td>\n",
       "      <td>2016-12-25T20:36:17.000Z</td>\n",
       "      <td>341698884</td>\n",
       "      <td>16217337-01</td>\n",
       "      <td>homicide-x</td>\n",
       "      <td>2017-04-03</td>\n",
       "      <td>4</td>\n",
       "    </tr>\n",
       "    <tr>\n",
       "      <th>4</th>\n",
       "      <td>-77.017203</td>\n",
       "      <td>38.904526</td>\n",
       "      <td>17037020</td>\n",
       "      <td>2017-03-05T20:46:01.000Z</td>\n",
       "      <td>EVENING</td>\n",
       "      <td>OTHERS</td>\n",
       "      <td>400 - 471 BLOCK OF NEW YORK AVENUE NW</td>\n",
       "      <td>398508</td>\n",
       "      <td>137407</td>\n",
       "      <td>6</td>\n",
       "      <td>...</td>\n",
       "      <td>38.904518</td>\n",
       "      <td>-77.017201</td>\n",
       "      <td>MOUNT VERNON TRIANGLE CID</td>\n",
       "      <td>2017-03-05T20:14:30.000Z</td>\n",
       "      <td>NaN</td>\n",
       "      <td>341703531</td>\n",
       "      <td>17037020-01</td>\n",
       "      <td>THEFT F/AUTO</td>\n",
       "      <td>2017-03-05</td>\n",
       "      <td>3</td>\n",
       "    </tr>\n",
       "  </tbody>\n",
       "</table>\n",
       "<p>5 rows × 27 columns</p>\n",
       "</div>"
      ],
      "text/plain": [
       "           X          Y       CCN                REPORT_DAT     SHIFT  METHOD  \\\n",
       "0 -77.058663  38.906846   7093973  2017-06-03T12:54:27.000Z       DAY  OTHERS   \n",
       "1 -77.018036  38.960747   9251904  2017-04-07T00:00:00.000Z  MIDNIGHT  OTHERS   \n",
       "2 -76.984955  38.915147  14060710  2017-03-13T00:00:00.000Z  MIDNIGHT  OTHERS   \n",
       "3 -77.009722  38.824388  16217337  2017-04-03T00:00:00.000Z  MIDNIGHT  OTHERS   \n",
       "4 -77.017203  38.904526  17037020  2017-03-05T20:46:01.000Z   EVENING  OTHERS   \n",
       "\n",
       "                                    BLOCK  XBLOCK  YBLOCK  WARD  ...  \\\n",
       "0        2900 - 2999 BLOCK OF N STREET NW  394912  137666     2  ...   \n",
       "1     5800  - 5899 BLOCK OF 4TH STREET NW  398437  143648     4  ...   \n",
       "2  2000 - 2099 BLOCK OF FENWICK STREET NE  401305  138586     5  ...   \n",
       "3     2 - 153 BLOCK OF GALVESTON PLACE SW  399156  128511     8  ...   \n",
       "4   400 - 471 BLOCK OF NEW YORK AVENUE NW  398508  137407     6  ...   \n",
       "\n",
       "    LATITUDE  LONGITUDE                        BID                START_DATE  \\\n",
       "0  38.906838 -77.058661                        NaN  2017-06-03T11:54:03.000Z   \n",
       "1  38.960739 -77.018034                        NaN  2009-02-13T12:03:45.000Z   \n",
       "2  38.915139 -76.984953                        NaN  2014-05-01T19:32:00.000Z   \n",
       "3  38.824380 -77.009719                        NaN  2016-12-25T11:59:35.000Z   \n",
       "4  38.904518 -77.017201  MOUNT VERNON TRIANGLE CID  2017-03-05T20:14:30.000Z   \n",
       "\n",
       "                   END_DATE   OBJECTID OCTO_RECORD_ID       OFFENSE  \\\n",
       "0  2017-06-03T11:55:05.000Z  341397622    07093973-01  THEFT F/AUTO   \n",
       "1  2009-02-13T12:03:43.000Z  341453326    09251904-01      homicide   \n",
       "2  2014-05-01T19:32:00.000Z  341600002    14060710-01      HOMICIDE   \n",
       "3  2016-12-25T20:36:17.000Z  341698884    16217337-01    homicide-x   \n",
       "4                       NaN  341703531    17037020-01  THEFT F/AUTO   \n",
       "\n",
       "   report_daily month  \n",
       "0    2017-06-03     6  \n",
       "1    2017-04-07     4  \n",
       "2    2017-03-13     3  \n",
       "3    2017-04-03     4  \n",
       "4    2017-03-05     3  \n",
       "\n",
       "[5 rows x 27 columns]"
      ]
     },
     "execution_count": 151,
     "metadata": {},
     "output_type": "execute_result"
    }
   ],
   "source": [
    "crimes_df['month'] = pd.to_datetime(crimes_df.REPORT_DAT).dt.month\n",
    "crimes_df.head()"
   ]
  },
  {
   "cell_type": "code",
   "execution_count": 154,
   "metadata": {},
   "outputs": [
    {
     "data": {
      "text/plain": [
       "OFFENSE                   month\n",
       "ARSON                     4         2\n",
       "                          6         1\n",
       "                          8         1\n",
       "ASSAULT DANGEROUS WEAPON  3        70\n",
       "                          4        86\n",
       "                                   ..\n",
       "minor-sex abuse           4         8\n",
       "                          5        12\n",
       "                          6         6\n",
       "                          7         8\n",
       "                          8         6\n",
       "Name: OBJECTID, Length: 93, dtype: int64"
      ]
     },
     "execution_count": 154,
     "metadata": {},
     "output_type": "execute_result"
    }
   ],
   "source": [
    "offenses_by_month = crimes_df.groupby(['OFFENSE', 'month']).count().iloc[:,-3]\n",
    "offenses_by_month"
   ]
  },
  {
   "cell_type": "code",
   "execution_count": 155,
   "metadata": {},
   "outputs": [
    {
     "data": {
      "text/plain": [
       "month  OFFENSE                   \n",
       "3      ASSAULT DANGEROUS WEAPON       70\n",
       "       ASSAULT W/DANGEROUS WEAPON     62\n",
       "       BURGLARY - HOME                58\n",
       "       HOMICIDE                        5\n",
       "       MOTOR VEHICLE THEFT           173\n",
       "                                    ... \n",
       "8      adult-sex abuse                 8\n",
       "       burglary - business            51\n",
       "       homicide                        1\n",
       "       homicide-x                      4\n",
       "       minor-sex abuse                 6\n",
       "Name: OBJECTID, Length: 93, dtype: int64"
      ]
     },
     "execution_count": 155,
     "metadata": {},
     "output_type": "execute_result"
    }
   ],
   "source": [
    "crimes_df.groupby(['month', 'OFFENSE']).count().iloc[:,-3]"
   ]
  },
  {
   "cell_type": "markdown",
   "metadata": {},
   "source": [
    "[Explain any manipulation of the dataset you performed and demonstrate how you would make such manipulation repeatable for future similar datasets.]"
   ]
  },
  {
   "cell_type": "markdown",
   "metadata": {},
   "source": [
    "## Task 1.I \n",
    "The crime data used here was gathered from the MPD's open data site. We have downloaded the 2021 data set on March 15, 2021 and it is available here: https://drive.google.com/uc?export=download&id=1HyslCBSZ7hzeFWw3PLogatrrveoHTWUJ. Please write a function that downloads the most recent version of the data from the [open data site](https://opendata.dc.gov/datasets/crime-incidents-in-2021) and appends any new incidents to the existing dataset with an indicator that it is newly added to the existing data source."
   ]
  },
  {
   "cell_type": "code",
   "execution_count": null,
   "metadata": {},
   "outputs": [],
   "source": []
  },
  {
   "cell_type": "markdown",
   "metadata": {
    "id": "gbseTtHjbN9N"
   },
   "source": [
    "# Section 2: Policy Evaluation\n",
    "Suppose the city government enacted a policy that allows people with low incomes (less than $30,000 per year) to have their ticket amount reduced 20 to 40 percent. The goal of the new policy is to reduce the number of overdue tickets among low-income residents.\n",
    "\n",
    "In this section, you'll use the same traffic stop data as in Section 1. You'll also use data on the court outcomes of tickets: \n",
    "- https://drive.google.com/uc?export=download&id=1CLyfh4-_oc8mTRdh4Fl9vH7JYOsUcUom\n",
    "\n",
    "and data on residents' income:\n",
    "- https://drive.google.com/uc?export=download&id=1CaERRReTMStFgutGEJo6hC34Od7mrHSG\n",
    "\n",
    "Please use those three data sets to answer the following questions.\n"
   ]
  },
  {
   "cell_type": "markdown",
   "metadata": {
    "id": "Q9sbjklJbN9O"
   },
   "source": [
    "## Task 2\n",
    "Determine whether there is a large difference between the ticket amounts for people with incomes less than \\\\$30,000 and those with incomes greater than or equal to \\\\$30,000. (Tickets are given out in \\\\$1.00 increments).\n"
   ]
  },
  {
   "cell_type": "code",
   "execution_count": null,
   "metadata": {
    "id": "3EjgmHOYbN9O"
   },
   "outputs": [],
   "source": [
    "courts_df = pd.read_csv('courts.csv')\n",
    "courts_df.head()"
   ]
  },
  {
   "cell_type": "code",
   "execution_count": 156,
   "metadata": {},
   "outputs": [
    {
     "data": {
      "text/html": [
       "<div>\n",
       "<style scoped>\n",
       "    .dataframe tbody tr th:only-of-type {\n",
       "        vertical-align: middle;\n",
       "    }\n",
       "\n",
       "    .dataframe tbody tr th {\n",
       "        vertical-align: top;\n",
       "    }\n",
       "\n",
       "    .dataframe thead th {\n",
       "        text-align: right;\n",
       "    }\n",
       "</style>\n",
       "<table border=\"1\" class=\"dataframe\">\n",
       "  <thead>\n",
       "    <tr style=\"text-align: right;\">\n",
       "      <th></th>\n",
       "      <th>stop_id</th>\n",
       "      <th>income</th>\n",
       "    </tr>\n",
       "  </thead>\n",
       "  <tbody>\n",
       "    <tr>\n",
       "      <th>0</th>\n",
       "      <td>97294</td>\n",
       "      <td>26305</td>\n",
       "    </tr>\n",
       "    <tr>\n",
       "      <th>1</th>\n",
       "      <td>87077</td>\n",
       "      <td>77578</td>\n",
       "    </tr>\n",
       "    <tr>\n",
       "      <th>2</th>\n",
       "      <td>57432</td>\n",
       "      <td>80185</td>\n",
       "    </tr>\n",
       "    <tr>\n",
       "      <th>3</th>\n",
       "      <td>121675</td>\n",
       "      <td>98784</td>\n",
       "    </tr>\n",
       "    <tr>\n",
       "      <th>4</th>\n",
       "      <td>37238</td>\n",
       "      <td>9350</td>\n",
       "    </tr>\n",
       "  </tbody>\n",
       "</table>\n",
       "</div>"
      ],
      "text/plain": [
       "   stop_id  income\n",
       "0    97294   26305\n",
       "1    87077   77578\n",
       "2    57432   80185\n",
       "3   121675   98784\n",
       "4    37238    9350"
      ]
     },
     "execution_count": 156,
     "metadata": {},
     "output_type": "execute_result"
    }
   ],
   "source": [
    "income_df = pd.read_csv('income.csv')\n",
    "income_df.head()"
   ]
  },
  {
   "cell_type": "markdown",
   "metadata": {
    "id": "Qnp3ZfWzjgDK"
   },
   "source": [
    "Explain your answer in 1-2 sentences."
   ]
  },
  {
   "cell_type": "markdown",
   "metadata": {
    "id": "Uw11uyWVjg7U"
   },
   "source": [
    " \n",
    "[insert explanation here]\n",
    "\n",
    " "
   ]
  },
  {
   "cell_type": "markdown",
   "metadata": {},
   "source": [
    "## Task 2.B\n",
    "\n",
    "The stops data also contains information regarding the individual's race. Using the driver_race column and the ticket column, determine if there are differences in who is stopped and whether they receive a ticket. Present your findings in a table along with (1) a description of the table and (2) an explanation of the results."
   ]
  },
  {
   "cell_type": "code",
   "execution_count": 163,
   "metadata": {},
   "outputs": [
    {
     "data": {
      "text/plain": [
       "driver_race\n",
       "black    41063\n",
       "white    39883\n",
       "Name: ticket, dtype: int64"
      ]
     },
     "execution_count": 163,
     "metadata": {},
     "output_type": "execute_result"
    }
   ],
   "source": [
    "stops_df.groupby('driver_race').count().iloc[:,-1]"
   ]
  }
 ],
 "metadata": {
  "colab": {
   "name": "JIL Performance Task.ipynb",
   "provenance": []
  },
  "kernelspec": {
   "display_name": "Python 3 (ipykernel)",
   "language": "python",
   "name": "python3"
  },
  "language_info": {
   "codemirror_mode": {
    "name": "ipython",
    "version": 3
   },
   "file_extension": ".py",
   "mimetype": "text/x-python",
   "name": "python",
   "nbconvert_exporter": "python",
   "pygments_lexer": "ipython3",
   "version": "3.7.6"
  }
 },
 "nbformat": 4,
 "nbformat_minor": 1
}
